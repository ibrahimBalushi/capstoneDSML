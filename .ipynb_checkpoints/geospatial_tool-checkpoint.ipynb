{
 "cells": [
  {
   "cell_type": "code",
   "execution_count": 1,
   "metadata": {
    "colab": {
     "base_uri": "https://localhost:8080/"
    },
    "id": "adYKIA-nFt45",
    "outputId": "43c50360-d6e1-46a6-b339-f65c6b4f63de"
   },
   "outputs": [
    {
     "name": "stdout",
     "output_type": "stream",
     "text": [
      "cleaning_and_prelim_eda_IA.ipynb  clean_requetes311_2022-present.csv\n",
      "clean_requetes311_2014-2016.csv   geospatial_tool.ipynb\n",
      "clean_requetes311_2016-2018.csv   territoires-administratifs-casernes\n",
      "clean_requetes311_2019-2021.csv\n"
     ]
    }
   ],
   "source": [
    "!ls"
   ]
  },
  {
   "cell_type": "code",
   "execution_count": 9,
   "metadata": {
    "colab": {
     "base_uri": "https://localhost:8080/"
    },
    "id": "Q1El2bCYFgE9",
    "outputId": "978be9de-e2d9-4c58-d100-bc3a01f87383"
   },
   "outputs": [],
   "source": [
    "import pandas as pd\n",
    "import geopandas as gpd\n",
    "import matplotlib.pyplot as plt"
   ]
  },
  {
   "cell_type": "markdown",
   "metadata": {},
   "source": [
    "# Vacant Builings (leaving it as an example)"
   ]
  },
  {
   "cell_type": "code",
   "execution_count": 12,
   "metadata": {
    "colab": {
     "base_uri": "https://localhost:8080/"
    },
    "id": "Q1El2bCYFgE9",
    "outputId": "978be9de-e2d9-4c58-d100-bc3a01f87383"
   },
   "outputs": [
    {
     "data": {
      "text/html": [
       "<div>\n",
       "<style scoped>\n",
       "    .dataframe tbody tr th:only-of-type {\n",
       "        vertical-align: middle;\n",
       "    }\n",
       "\n",
       "    .dataframe tbody tr th {\n",
       "        vertical-align: top;\n",
       "    }\n",
       "\n",
       "    .dataframe thead th {\n",
       "        text-align: right;\n",
       "    }\n",
       "</style>\n",
       "<table border=\"1\" class=\"dataframe\">\n",
       "  <thead>\n",
       "    <tr style=\"text-align: right;\">\n",
       "      <th></th>\n",
       "      <th>ID</th>\n",
       "      <th>MUNID</th>\n",
       "      <th>ARRID</th>\n",
       "      <th>CIV</th>\n",
       "      <th>GENERIQUE</th>\n",
       "      <th>SPECIFIQUE</th>\n",
       "      <th>COMPTE_FON</th>\n",
       "      <th>NOM_PROPRI</th>\n",
       "      <th>PRENOM_PRO</th>\n",
       "      <th>COMPLET_AD</th>\n",
       "      <th>...</th>\n",
       "      <th>REGL_UNITE</th>\n",
       "      <th>ZONE_PATRI</th>\n",
       "      <th>TYPE_ZONE_</th>\n",
       "      <th>INTERET_IM</th>\n",
       "      <th>INTERET_QU</th>\n",
       "      <th>TAMPON_500</th>\n",
       "      <th>DESCRIPTIO</th>\n",
       "      <th>LONGITUDE</th>\n",
       "      <th>LATITUDE</th>\n",
       "      <th>geometry</th>\n",
       "    </tr>\n",
       "  </thead>\n",
       "  <tbody>\n",
       "    <tr>\n",
       "      <th>0</th>\n",
       "      <td>1</td>\n",
       "      <td>66023</td>\n",
       "      <td>Rem19</td>\n",
       "      <td>1092</td>\n",
       "      <td>rue</td>\n",
       "      <td>Clark</td>\n",
       "      <td>17109960</td>\n",
       "      <td>VILLE DE MONTREAL</td>\n",
       "      <td>None</td>\n",
       "      <td>303 RUE NOTRE-DAME E 3.500</td>\n",
       "      <td>...</td>\n",
       "      <td>Centre-Ville</td>\n",
       "      <td>Le Monument-National</td>\n",
       "      <td>Aire de protection</td>\n",
       "      <td>non</td>\n",
       "      <td>S.O.</td>\n",
       "      <td>oui</td>\n",
       "      <td>Situé au voisinage du Quartier des spectacles,...</td>\n",
       "      <td>-73.561116</td>\n",
       "      <td>45.507876</td>\n",
       "      <td>POLYGON Z ((300037.882 5040892.288 0, 300020.4...</td>\n",
       "    </tr>\n",
       "    <tr>\n",
       "      <th>1</th>\n",
       "      <td>2</td>\n",
       "      <td>66023</td>\n",
       "      <td>Rem19</td>\n",
       "      <td>1175</td>\n",
       "      <td>rue</td>\n",
       "      <td>Mackay</td>\n",
       "      <td>26134700</td>\n",
       "      <td>COMPAGNIE D INVESTISSEMENT LES COURS DU ROI</td>\n",
       "      <td>None</td>\n",
       "      <td>1231  SAINTE-CATHERINE O 503</td>\n",
       "      <td>...</td>\n",
       "      <td>Maisons en Rangées</td>\n",
       "      <td>S.O.</td>\n",
       "      <td>S.O.</td>\n",
       "      <td>non</td>\n",
       "      <td>Quartier des grands jardins</td>\n",
       "      <td>oui</td>\n",
       "      <td>Localisé près de la Cité du commerce électroni...</td>\n",
       "      <td>-73.574897</td>\n",
       "      <td>45.495104</td>\n",
       "      <td>POLYGON Z ((298923.757 5039459.869 0, 298945.1...</td>\n",
       "    </tr>\n",
       "    <tr>\n",
       "      <th>2</th>\n",
       "      <td>3</td>\n",
       "      <td>66023</td>\n",
       "      <td>Rem19</td>\n",
       "      <td>1186</td>\n",
       "      <td>boulevard</td>\n",
       "      <td>Saint-Laurent</td>\n",
       "      <td>17124925</td>\n",
       "      <td>GESTION SAINT-LAURENT ANGUS INC.</td>\n",
       "      <td>None</td>\n",
       "      <td>2600 RUE WILLIAM-TREMBLAY  200</td>\n",
       "      <td>...</td>\n",
       "      <td>Boulevard Saint-Laurent</td>\n",
       "      <td>Le Monument-National</td>\n",
       "      <td>Aire de protection</td>\n",
       "      <td>non</td>\n",
       "      <td>Quartier des Spectacles - Place des Arts</td>\n",
       "      <td>oui</td>\n",
       "      <td>Situé dans le centre-ville de Montréal, en ple...</td>\n",
       "      <td>-73.562731</td>\n",
       "      <td>45.509063</td>\n",
       "      <td>POLYGON Z ((299910.858 5041030.851 0, 299902.2...</td>\n",
       "    </tr>\n",
       "  </tbody>\n",
       "</table>\n",
       "<p>3 rows × 28 columns</p>\n",
       "</div>"
      ],
      "text/plain": [
       "   ID  MUNID  ARRID   CIV  GENERIQUE     SPECIFIQUE COMPTE_FON  \\\n",
       "0   1  66023  Rem19  1092        rue          Clark   17109960   \n",
       "1   2  66023  Rem19  1175        rue         Mackay   26134700   \n",
       "2   3  66023  Rem19  1186  boulevard  Saint-Laurent   17124925   \n",
       "\n",
       "                                    NOM_PROPRI PRENOM_PRO  \\\n",
       "0                            VILLE DE MONTREAL       None   \n",
       "1  COMPAGNIE D INVESTISSEMENT LES COURS DU ROI       None   \n",
       "2             GESTION SAINT-LAURENT ANGUS INC.       None   \n",
       "\n",
       "                       COMPLET_AD  ...               REGL_UNITE  \\\n",
       "0      303 RUE NOTRE-DAME E 3.500  ...             Centre-Ville   \n",
       "1    1231  SAINTE-CATHERINE O 503  ...       Maisons en Rangées   \n",
       "2  2600 RUE WILLIAM-TREMBLAY  200  ...  Boulevard Saint-Laurent   \n",
       "\n",
       "             ZONE_PATRI          TYPE_ZONE_ INTERET_IM  \\\n",
       "0  Le Monument-National  Aire de protection        non   \n",
       "1                  S.O.                S.O.        non   \n",
       "2  Le Monument-National  Aire de protection        non   \n",
       "\n",
       "                                 INTERET_QU TAMPON_500  \\\n",
       "0                                      S.O.        oui   \n",
       "1               Quartier des grands jardins        oui   \n",
       "2  Quartier des Spectacles - Place des Arts        oui   \n",
       "\n",
       "                                          DESCRIPTIO  LONGITUDE   LATITUDE  \\\n",
       "0  Situé au voisinage du Quartier des spectacles,... -73.561116  45.507876   \n",
       "1  Localisé près de la Cité du commerce électroni... -73.574897  45.495104   \n",
       "2  Situé dans le centre-ville de Montréal, en ple... -73.562731  45.509063   \n",
       "\n",
       "                                            geometry  \n",
       "0  POLYGON Z ((300037.882 5040892.288 0, 300020.4...  \n",
       "1  POLYGON Z ((298923.757 5039459.869 0, 298945.1...  \n",
       "2  POLYGON Z ((299910.858 5041030.851 0, 299902.2...  \n",
       "\n",
       "[3 rows x 28 columns]"
      ]
     },
     "execution_count": 12,
     "metadata": {},
     "output_type": "execute_result"
    }
   ],
   "source": [
    "# Replace 'your_file.shp' with the actual path to your SHP file\n",
    "vacant_buildings = gpd.read_file('Batiments_vacants_VM_2016/Batiments_Vacants_2016_region.shp')\n",
    "\n",
    "# Now you can work with the shapefile data\n",
    "vacant_buildings.head(3)"
   ]
  },
  {
   "cell_type": "code",
   "execution_count": 20,
   "metadata": {
    "colab": {
     "base_uri": "https://localhost:8080/",
     "height": 462
    },
    "id": "EU3U9Y7NFxeW",
    "outputId": "190ba9f7-d821-4d67-ee56-e0d4e46be32a"
   },
   "outputs": [
    {
     "data": {
      "image/png": "[encoded data removed]",
      "text/plain": [
       "<Figure size 200x500 with 1 Axes>"
      ]
     },
     "metadata": {},
     "output_type": "display_data"
    }
   ],
   "source": [
    "_, ax = plt.subplots(figsize=(2,5))\n",
    "_ = vacant_buildings.plot(ax=ax)"
   ]
  },
  {
   "cell_type": "markdown",
   "metadata": {},
   "source": [
    "# Administratifs sectors"
   ]
  },
  {
   "cell_type": "code",
   "execution_count": 6,
   "metadata": {
    "id": "ArXZMQG1GFB5"
   },
   "outputs": [],
   "source": [
    "admin_terr = gpd.read_file('territoires-administratifs-casernes/territoires-administratifs-casernes.shp')"
   ]
  },
  {
   "cell_type": "code",
   "execution_count": 7,
   "metadata": {
    "colab": {
     "base_uri": "https://localhost:8080/",
     "height": 206
    },
    "id": "HV656vBMItmK",
    "outputId": "6d7df14c-1808-4891-e073-9dc985915ac4"
   },
   "outputs": [
    {
     "data": {
      "text/html": [
       "<div>\n",
       "<style scoped>\n",
       "    .dataframe tbody tr th:only-of-type {\n",
       "        vertical-align: middle;\n",
       "    }\n",
       "\n",
       "    .dataframe tbody tr th {\n",
       "        vertical-align: top;\n",
       "    }\n",
       "\n",
       "    .dataframe thead th {\n",
       "        text-align: right;\n",
       "    }\n",
       "</style>\n",
       "<table border=\"1\" class=\"dataframe\">\n",
       "  <thead>\n",
       "    <tr style=\"text-align: right;\">\n",
       "      <th></th>\n",
       "      <th>NOM_CAS_AD</th>\n",
       "      <th>NO_CAS_ADM</th>\n",
       "      <th>OBJECTID</th>\n",
       "      <th>geometry</th>\n",
       "    </tr>\n",
       "  </thead>\n",
       "  <tbody>\n",
       "    <tr>\n",
       "      <th>0</th>\n",
       "      <td>Caserne 72</td>\n",
       "      <td>72</td>\n",
       "      <td>296</td>\n",
       "      <td>POLYGON ((287732.12 5042781.704, 287732.125 50...</td>\n",
       "    </tr>\n",
       "    <tr>\n",
       "      <th>1</th>\n",
       "      <td>Caserne 71</td>\n",
       "      <td>71</td>\n",
       "      <td>297</td>\n",
       "      <td>POLYGON ((286445.616 5041122.006, 286445.662 5...</td>\n",
       "    </tr>\n",
       "    <tr>\n",
       "      <th>2</th>\n",
       "      <td>Caserne 32</td>\n",
       "      <td>32</td>\n",
       "      <td>298</td>\n",
       "      <td>POLYGON ((306751.569 5062506.945, 306727.987 5...</td>\n",
       "    </tr>\n",
       "    <tr>\n",
       "      <th>3</th>\n",
       "      <td>Caserne 25</td>\n",
       "      <td>25</td>\n",
       "      <td>299</td>\n",
       "      <td>POLYGON ((298032.411 5041740.83, 298358.761 50...</td>\n",
       "    </tr>\n",
       "    <tr>\n",
       "      <th>4</th>\n",
       "      <td>Caserne 31</td>\n",
       "      <td>31</td>\n",
       "      <td>300</td>\n",
       "      <td>POLYGON ((296726.745 5043167.591, 296630.684 5...</td>\n",
       "    </tr>\n",
       "  </tbody>\n",
       "</table>\n",
       "</div>"
      ],
      "text/plain": [
       "   NOM_CAS_AD  NO_CAS_ADM  OBJECTID  \\\n",
       "0  Caserne 72          72       296   \n",
       "1  Caserne 71          71       297   \n",
       "2  Caserne 32          32       298   \n",
       "3  Caserne 25          25       299   \n",
       "4  Caserne 31          31       300   \n",
       "\n",
       "                                            geometry  \n",
       "0  POLYGON ((287732.12 5042781.704, 287732.125 50...  \n",
       "1  POLYGON ((286445.616 5041122.006, 286445.662 5...  \n",
       "2  POLYGON ((306751.569 5062506.945, 306727.987 5...  \n",
       "3  POLYGON ((298032.411 5041740.83, 298358.761 50...  \n",
       "4  POLYGON ((296726.745 5043167.591, 296630.684 5...  "
      ]
     },
     "execution_count": 7,
     "metadata": {},
     "output_type": "execute_result"
    }
   ],
   "source": [
    "admin_terr.head()"
   ]
  },
  {
   "cell_type": "code",
   "execution_count": 11,
   "metadata": {
    "colab": {
     "base_uri": "https://localhost:8080/",
     "height": 462
    },
    "id": "c0rO2LcqGl1C",
    "outputId": "5e196643-f5b4-4a15-b891-a24ecde71e79"
   },
   "outputs": [
    {
     "data": {
      "image/png": "[encoded data removed]",
      "text/plain": [
       "<Figure size 640x480 with 1 Axes>"
      ]
     },
     "metadata": {},
     "output_type": "display_data"
    }
   ],
   "source": [
    "admin_terr.plot()\n",
    "_ = plt.axis('off')"
   ]
  },
  {
   "cell_type": "markdown",
   "metadata": {},
   "source": [
    "# Join Datasets (maybe a different dataset to join)"
   ]
  },
  {
   "cell_type": "code",
   "execution_count": 21,
   "metadata": {
    "colab": {
     "base_uri": "https://localhost:8080/"
    },
    "id": "2RIPuIHKGn1X",
    "outputId": "37c8f6c9-938e-4b45-a670-22b50dca6b73"
   },
   "outputs": [],
   "source": [
    "# joined_data = admin_terr.sjoin(vacant_buildings, how=\"right\", predicate='intersects')"
   ]
  },
  {
   "cell_type": "code",
   "execution_count": 22,
   "metadata": {
    "colab": {
     "base_uri": "https://localhost:8080/",
     "height": 462
    },
    "id": "5KkmKghmHiAR",
    "outputId": "617e4691-8a88-4179-cadb-01cf9fdb3160"
   },
   "outputs": [],
   "source": [
    "# joined_data.plot()"
   ]
  },
  {
   "cell_type": "code",
   "execution_count": 23,
   "metadata": {
    "colab": {
     "base_uri": "https://localhost:8080/",
     "height": 1000
    },
    "id": "VPUeefgIHpq4",
    "outputId": "405c7686-46f1-48da-a93b-6057548b8feb"
   },
   "outputs": [],
   "source": [
    "# joined_data.head(3)"
   ]
  },
  {
   "cell_type": "code",
   "execution_count": 24,
   "metadata": {
    "colab": {
     "base_uri": "https://localhost:8080/",
     "height": 272
    },
    "id": "Yhpq1UH7H7ic",
    "outputId": "ea59cc05-5ae1-45c7-e585-282e381cf35a"
   },
   "outputs": [],
   "source": [
    "# joined_data.groupby('NOM_CAS_AD').size()"
   ]
  },
  {
   "cell_type": "code",
   "execution_count": null,
   "metadata": {
    "id": "xtPNoXc7IKbl"
   },
   "outputs": [],
   "source": []
  }
 ],
 "metadata": {
  "colab": {
   "provenance": []
  },
  "kernelspec": {
   "display_name": "Python 3 (ipykernel)",
   "language": "python",
   "name": "python3"
  },
  "language_info": {
   "codemirror_mode": {
    "name": "ipython",
    "version": 3
   },
   "file_extension": ".py",
   "mimetype": "text/x-python",
   "name": "python",
   "nbconvert_exporter": "python",
   "pygments_lexer": "ipython3",
   "version": "3.10.12"
  }
 },
 "nbformat": 4,
 "nbformat_minor": 4
}
