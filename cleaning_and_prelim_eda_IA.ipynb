{
 "cells": [
  {
   "cell_type": "code",
   "execution_count": 1,
   "id": "70d5b5fb-f386-42eb-b708-90ac3d135396",
   "metadata": {},
   "outputs": [],
   "source": [
    "import pandas as pd\n",
    "from datetime import datetime as dt\n",
    "\n",
    "from IPython.core.interactiveshell import InteractiveShell\n",
    "InteractiveShell.ast_node_interactivity = 'all'"
   ]
  },
  {
   "cell_type": "code",
   "execution_count": 2,
   "id": "bb0aefeb-58b7-4a60-a96d-8c473498a826",
   "metadata": {},
   "outputs": [
    {
     "name": "stdout",
     "output_type": "stream",
     "text": [
      "clean_requetes311_2014-2016.csv  clean_requetes311_2022-present.csv\n",
      "clean_requetes311_2016-2018.csv  preliminary_eda_IA.ipynb\n",
      "clean_requetes311_2019-2021.csv\n"
     ]
    }
   ],
   "source": [
    "! ls"
   ]
  },
  {
   "cell_type": "code",
   "execution_count": 9,
   "id": "f3296410-3445-4f14-b731-ab93c4e1a4e7",
   "metadata": {},
   "outputs": [],
   "source": [
    "data_2014_2016 = pd.read_csv('requetes311_2014-2016.csv', low_memory=False)\n",
    "data_2016_2018 = pd.read_csv('requetes311_2016-2018.csv', low_memory=False)\n",
    "data_2019_2021 = pd.read_csv('requetes311_2019-2021.csv', low_memory=False)\n",
    "data_2022_present = pd.read_csv('requetes311_2022-present.csv', low_memory=False)"
   ]
  },
  {
   "cell_type": "code",
   "execution_count": 17,
   "id": "3fd4c6e6-cf53-498d-b70d-c29dd4ddf330",
   "metadata": {},
   "outputs": [],
   "source": [
    "NAMES = ['2014-2016', '2016-2018', '2019-2021', '2022-present']\n",
    "DATASETS = [data_2014_2016, data_2016_2018, data_2019_2021, data_2022_present]\n",
    "DATA_DICT = dict(zip(NAMES,DATASETS))"
   ]
  },
  {
   "cell_type": "code",
   "execution_count": 19,
   "id": "1cb904bd-f042-4b5a-b89f-57d46696353a",
   "metadata": {},
   "outputs": [
    {
     "data": {
      "text/plain": [
       "dict_keys(['requetes311_2014-2016.csv', 'requetes311_2016-2018.csv', 'requetes311_2019-2021.csv', 'requetes311_2022-present.csv'])"
      ]
     },
     "execution_count": 19,
     "metadata": {},
     "output_type": "execute_result"
    }
   ],
   "source": [
    "DATA_DICT.keys()"
   ]
  },
  {
   "cell_type": "markdown",
   "id": "36ee6bc5-bb18-4940-8c7d-c80bdcec8395",
   "metadata": {},
   "source": [
    "# CLEAN: remove all rows without geo-spacial data\n",
    "SAVE output csv"
   ]
  },
  {
   "cell_type": "code",
   "execution_count": 22,
   "id": "e9815712-199b-4003-b9ad-8ad41a42ad66",
   "metadata": {},
   "outputs": [
    {
     "name": "stdout",
     "output_type": "stream",
     "text": [
      "processing requetes311_2014-2016.csv...\n",
      "clean_requetes311_2014-2016.csv complete\n",
      "processing requetes311_2016-2018.csv...\n",
      "clean_requetes311_2016-2018.csv complete\n",
      "processing requetes311_2019-2021.csv...\n",
      "clean_requetes311_2019-2021.csv complete\n",
      "processing requetes311_2022-present.csv...\n",
      "clean_requetes311_2022-present.csv complete\n"
     ]
    }
   ],
   "source": [
    "for key in DATA_DICT.keys():\n",
    "    print(f'processing {key}...')\n",
    "    data = DATA_DICT[key]\n",
    "    data.dropna(subset=['LOC_LONG'], inplace=True)\n",
    "    \n",
    "    data = data[data['NATURE'] != 'Commentaire']\n",
    "    \n",
    "    data_clean = data.copy()\n",
    "    \n",
    "    data_clean.to_csv(f\"clean_{key}\")\n",
    "    print(f'clean_{key} complete')"
   ]
  },
  {
   "cell_type": "markdown",
   "id": "c2baf953-b5a2-45a9-ae1c-5872c91c7b57",
   "metadata": {},
   "source": [
    "# LOAD cleaned data"
   ]
  },
  {
   "cell_type": "code",
   "execution_count": 3,
   "id": "e1ced7fc-0151-4150-866b-0877a81dd030",
   "metadata": {},
   "outputs": [],
   "source": [
    "data_2014_2016 = pd.read_csv('clean_requetes311_2014-2016.csv', low_memory=False)\n",
    "data_2016_2018 = pd.read_csv('clean_requetes311_2016-2018.csv', low_memory=False)\n",
    "data_2019_2021 = pd.read_csv('clean_requetes311_2019-2021.csv', low_memory=False)\n",
    "data_2022_present = pd.read_csv('clean_requetes311_2022-present.csv', low_memory=False)"
   ]
  },
  {
   "cell_type": "code",
   "execution_count": 4,
   "id": "ef7d23f7-ec0a-4465-93b2-330466ab9138",
   "metadata": {},
   "outputs": [],
   "source": [
    "NAMES = ['2014-2016', '2016-2018', '2019-2021', '2022-present']\n",
    "DATASETS = [data_2014_2016, data_2016_2018, data_2019_2021, data_2022_present]\n",
    "DATA_DICT = dict(zip(NAMES,DATASETS))"
   ]
  },
  {
   "cell_type": "markdown",
   "id": "313ebb91-59e0-42e7-b596-3e1d2cba2335",
   "metadata": {},
   "source": [
    "# Count number of incidents per period"
   ]
  },
  {
   "cell_type": "code",
   "execution_count": 5,
   "id": "638c19db-4e78-40ad-954d-f076dbe4673d",
   "metadata": {},
   "outputs": [
    {
     "name": "stdout",
     "output_type": "stream",
     "text": [
      " 2014-2016:\n"
     ]
    },
    {
     "data": {
      "text/plain": [
       "NATURE\n",
       "Requete    1060340\n",
       "Plainte      14348\n",
       "Name: count, dtype: int64"
      ]
     },
     "execution_count": 5,
     "metadata": {},
     "output_type": "execute_result"
    },
    {
     "name": "stdout",
     "output_type": "stream",
     "text": [
      " 2016-2018:\n"
     ]
    },
    {
     "data": {
      "text/plain": [
       "NATURE\n",
       "Requete    1172488\n",
       "Plainte      15374\n",
       "Name: count, dtype: int64"
      ]
     },
     "execution_count": 5,
     "metadata": {},
     "output_type": "execute_result"
    },
    {
     "name": "stdout",
     "output_type": "stream",
     "text": [
      " 2019-2021:\n"
     ]
    },
    {
     "data": {
      "text/plain": [
       "NATURE\n",
       "Requete    1014315\n",
       "Plainte      18486\n",
       "Name: count, dtype: int64"
      ]
     },
     "execution_count": 5,
     "metadata": {},
     "output_type": "execute_result"
    },
    {
     "name": "stdout",
     "output_type": "stream",
     "text": [
      " 2022-present:\n"
     ]
    },
    {
     "data": {
      "text/plain": [
       "NATURE\n",
       "Requete    1013817\n",
       "Plainte      17308\n",
       "Name: count, dtype: int64"
      ]
     },
     "execution_count": 5,
     "metadata": {},
     "output_type": "execute_result"
    }
   ],
   "source": [
    "for key in DATA_DICT:\n",
    "    print(f' {key}:')\n",
    "    data = DATA_DICT[key]\n",
    "    data.value_counts('NATURE')"
   ]
  },
  {
   "cell_type": "code",
   "execution_count": 28,
   "id": "f9f44bc1-dea4-4de3-a5b0-a27b7660da2f",
   "metadata": {},
   "outputs": [
    {
     "data": {
      "text/plain": [
       "65516"
      ]
     },
     "execution_count": 28,
     "metadata": {},
     "output_type": "execute_result"
    }
   ],
   "source": [
    "print(f\"there are {14348+15374+18486+17308} complaints\")"
   ]
  },
  {
   "cell_type": "markdown",
   "id": "73d5e9b4-9969-4e52-88c7-629e7736d311",
   "metadata": {},
   "source": [
    "# preliminary analysis"
   ]
  },
  {
   "cell_type": "code",
   "execution_count": 6,
   "id": "f9d26ee3-17f5-4f62-b371-e98efa558801",
   "metadata": {},
   "outputs": [],
   "source": [
    "data = data_2022_present"
   ]
  },
  {
   "cell_type": "code",
   "execution_count": 7,
   "id": "aa298cae-a3f0-4bf5-8f8b-390a96b0935a",
   "metadata": {},
   "outputs": [
    {
     "name": "stdout",
     "output_type": "stream",
     "text": [
      "<class 'pandas.core.frame.DataFrame'>\n",
      "RangeIndex: 1031125 entries, 0 to 1031124\n",
      "Data columns (total 30 columns):\n",
      " #   Column                   Non-Null Count    Dtype  \n",
      "---  ------                   --------------    -----  \n",
      " 0   Unnamed: 0               1031125 non-null  int64  \n",
      " 1   ID_UNIQUE                1031125 non-null  object \n",
      " 2   NATURE                   1031125 non-null  object \n",
      " 3   ACTI_NOM                 1031125 non-null  object \n",
      " 4   TYPE_LIEU_INTERV         1031125 non-null  object \n",
      " 5   RUE                      884315 non-null   object \n",
      " 6   RUE_INTERSECTION1        158788 non-null   object \n",
      " 7   RUE_INTERSECTION2        158686 non-null   object \n",
      " 8   LOC_ERREUR_GDT           1031125 non-null  float64\n",
      " 9   ARRONDISSEMENT           1031125 non-null  object \n",
      " 10  ARRONDISSEMENT_GEO       1031083 non-null  object \n",
      " 11  LIN_CODE_POSTAL          802661 non-null   object \n",
      " 12  DDS_DATE_CREATION        1031125 non-null  object \n",
      " 13  PROVENANCE_ORIGINALE     1029861 non-null  object \n",
      " 14  PROVENANCE_TELEPHONE     1031125 non-null  int64  \n",
      " 15  PROVENANCE_COURRIEL      1031125 non-null  int64  \n",
      " 16  PROVENANCE_PERSONNE      1031125 non-null  int64  \n",
      " 17  PROVENANCE_COURRIER      1031125 non-null  int64  \n",
      " 18  PROVENANCE_TELECOPIEUR   1031125 non-null  int64  \n",
      " 19  PROVENANCE_INSTANCE      1031125 non-null  int64  \n",
      " 20  PROVENANCE_MOBILE        1031125 non-null  int64  \n",
      " 21  PROVENANCE_MEDIASOCIAUX  1031125 non-null  int64  \n",
      " 22  PROVENANCE_SITEINTERNET  1031125 non-null  int64  \n",
      " 23  UNITE_RESP_PARENT        1031125 non-null  object \n",
      " 24  LOC_LONG                 1031125 non-null  float64\n",
      " 25  LOC_LAT                  1031125 non-null  float64\n",
      " 26  LOC_X                    1031125 non-null  float64\n",
      " 27  LOC_Y                    1031125 non-null  float64\n",
      " 28  DERNIER_STATUT           1031125 non-null  object \n",
      " 29  DATE_DERNIER_STATUT      1031125 non-null  object \n",
      "dtypes: float64(5), int64(10), object(15)\n",
      "memory usage: 236.0+ MB\n"
     ]
    }
   ],
   "source": [
    "data.info(verbose=True)"
   ]
  },
  {
   "cell_type": "code",
   "execution_count": 8,
   "id": "105863f4-1a7d-4ff2-876c-c4c2e6e3f70c",
   "metadata": {},
   "outputs": [
    {
     "data": {
      "text/plain": [
       "NATURE\n",
       "Requete    1013817\n",
       "Plainte      17308\n",
       "Name: count, dtype: int64"
      ]
     },
     "execution_count": 8,
     "metadata": {},
     "output_type": "execute_result"
    }
   ],
   "source": [
    "data.value_counts('NATURE')"
   ]
  },
  {
   "cell_type": "code",
   "execution_count": 9,
   "id": "4aabef3d-c00b-4ace-9c2a-f6fecda2a121",
   "metadata": {},
   "outputs": [
    {
     "data": {
      "text/plain": [
       "DERNIER_STATUT           \n",
       "Terminée                     963236\n",
       "Refusée                       28066\n",
       "Prise en charge               22387\n",
       "Transmise pour traitement      7040\n",
       "Annulée                        6272\n",
       "Acceptée                       3475\n",
       "Supprimée                       515\n",
       "Réactivée                       112\n",
       "Urgente                          22\n",
       "Name: count, dtype: int64"
      ]
     },
     "execution_count": 9,
     "metadata": {},
     "output_type": "execute_result"
    }
   ],
   "source": [
    "data.value_counts(['DERNIER_STATUT'])"
   ]
  },
  {
   "cell_type": "code",
   "execution_count": 10,
   "id": "5a414ace-eadf-4bcd-b682-345cc2ab48b4",
   "metadata": {},
   "outputs": [],
   "source": [
    "DATETIME_COLS = ['DDS_DATE_CREATION','DATE_DERNIER_STATUT']\n",
    "data[DATETIME_COLS[0]] = pd.to_datetime(data[DATETIME_COLS[0]])\n",
    "data[DATETIME_COLS[1]] = pd.to_datetime(data[DATETIME_COLS[1]])"
   ]
  },
  {
   "cell_type": "code",
   "execution_count": 14,
   "id": "8afecbd0-66b5-41e4-ba26-58f5a1ac9bfe",
   "metadata": {
    "scrolled": true
   },
   "outputs": [
    {
     "data": {
      "text/plain": [
       "ACTI_NOM\n",
       "Dépôt illégal - Déchets                             61164\n",
       "Collecte de déchets                                 42612\n",
       "Bac roulant                                         38072\n",
       "Nettoyage du domaine public                         33014\n",
       "Collecte des matières recyclables                   29909\n",
       "Éclairage existant - Entretien                      28713\n",
       "Opération déneigement                               28313\n",
       "Nid-de-poule                                        26298\n",
       "Feux de circulation - Entretien                     22215\n",
       "Élagage                                             20838\n",
       "Signalisation - Circulation - Études                20804\n",
       "Collecte de résidus alimentaires                    20400\n",
       "Fermeture d'entrée d'eau                            19368\n",
       "Branche tombée                                      16305\n",
       "Occupation du domaine public                        15538\n",
       "Pavage - Réparation                                 15035\n",
       "Puisard/TH-Première intervention                    14362\n",
       "Collecte de résidus verts                           14283\n",
       "Changement d'adresse - Taxes foncières              13542\n",
       "Danger potentiel - Arbre                            13310\n",
       "Voirie - Divers                                     13250\n",
       "Bac roulant - Matières recyclables                  12986\n",
       "Signalisation écrite -  Entretien                   12578\n",
       "Info-travaux - Service central                      12567\n",
       "Encombrants non ramassés                            12172\n",
       "Balai mécanique                                     11254\n",
       "Animal mort                                         10042\n",
       "Logement - Inspection                               10002\n",
       "Terrain insalubre - Domaine privé                    9750\n",
       "Retour DDS                                           9206\n",
       "Collecte des encombrants                             8940\n",
       "Ouverture d'entrée d'eau                             8832\n",
       "Permis - Divers                                      8731\n",
       "Info-travaux - Arrondissement                        8670\n",
       "Parc - Divers                                        8486\n",
       "Parc - Propreté                                      7950\n",
       "Débris sur la voie publique                          7930\n",
       "Bac roulant - Résidus alimentaires                   7920\n",
       "Panneau de signalisation entretien prioritaire       7596\n",
       "Fuite d'eau                                          7445\n",
       "Plantation d'arbre                                   6814\n",
       "Distribution de sacs                                 6388\n",
       "Encaissement - Oasis                                 6382\n",
       "Arbre - Divers                                       6306\n",
       "Y-Eau - Divers                                       6221\n",
       "Encaissement - Stop +                                6108\n",
       "Taxes foncières                                      6076\n",
       "Trottoir glissant                                    6009\n",
       "Contrôle animalier                                   5978\n",
       "Mobilier urbain                                      5928\n",
       "Bruit                                                5684\n",
       "Permis de construction - rénovation                  5586\n",
       "Services Techniques - Varia                          5552\n",
       "Mobilier de parc                                     5471\n",
       "Maladie ou insectes - Arbre                          5206\n",
       "Chaussée glissante                                   5173\n",
       "Fermeture d'une conduite d'eau - Urgence             5112\n",
       "Signalisation - Neige                                5035\n",
       "SRRR                                                 5011\n",
       "IRP - Fermeture de rue                               4854\n",
       "Environnement - Divers                               4790\n",
       "Graffitis - Domaine public                           4482\n",
       "Collecte des matières organiques                     4452\n",
       "Trottoir ou bordure - Réparation                     4437\n",
       "Gazon - Réparation                                   4433\n",
       "Sports et loisirs - Activités                        4296\n",
       "Entretien d'édifices municipaux                      4144\n",
       "Abattage d'arbre                                     4130\n",
       "Gazon ou mauvaises herbes - Domaine public           3941\n",
       "Localisation / Entretien Entrée d'eau                3833\n",
       "Puisard/TH-Refoulement/Débordement/Blocage           3679\n",
       "Arbre tombé                                          3575\n",
       "Horticulture - Divers                                3454\n",
       "Dépôt Illégal - Neige                                3445\n",
       "Panier de rue à vider                                3205\n",
       "Manque d'eau                                         3174\n",
       "Z-Puisard                                            3041\n",
       "*Bac de recyclage Endommagé, perdu, volé             2828\n",
       "Installations sportives extérieures - Entretien      2808\n",
       "Bureau d'arrondissement - Service à la clientèle     2792\n",
       "Borne d'incendie - Entretien                         2779\n",
       "Gazon ou herbes hautes - Domaine privé               2738\n",
       "Extermination à l'extérieur - Rats                   2642\n",
       "Horticulture - Entretien                             2638\n",
       "Éviction                                             2542\n",
       "Y-Égout - Divers                                     2468\n",
       "Entrée d'eau en plomb-Autre demande                  2462\n",
       "IRP - Demande onde radio                             2318\n",
       "Mesure d'apaisement - Circulation                    2299\n",
       "Graffitis - Domaine privé                            2262\n",
       "Entrée d'eau en plomb-Demande de filtre              2247\n",
       "*Bac de déchets Endommagé, perdu, volé               2232\n",
       "Déchets - Non ramassés                               2173\n",
       "Signalisation non autorisée - Analyse                2123\n",
       "Bac montréalais (67 litres)                          2055\n",
       "Essouchement                                         1993\n",
       "Prise de rendez-vous                                 1950\n",
       "Collecte d'arbres de Noël                            1906\n",
       "Panier de parc à vider                               1824\n",
       "IRP - Police                                         1795\n",
       "Name: count, dtype: int64"
      ]
     },
     "execution_count": 14,
     "metadata": {},
     "output_type": "execute_result"
    }
   ],
   "source": [
    "pd.set_option('display.max_rows', 100)\n",
    "data.value_counts('ACTI_NOM').head(100)"
   ]
  },
  {
   "cell_type": "code",
   "execution_count": 15,
   "id": "2d587e95-701c-4f2e-b3b3-bf67a3b15aad",
   "metadata": {},
   "outputs": [
    {
     "data": {
      "text/plain": [
       "DERNIER_STATUT           \n",
       "Terminée                     963236\n",
       "Refusée                       28066\n",
       "Prise en charge               22387\n",
       "Transmise pour traitement      7040\n",
       "Annulée                        6272\n",
       "Acceptée                       3475\n",
       "Supprimée                       515\n",
       "Réactivée                       112\n",
       "Urgente                          22\n",
       "Name: count, dtype: int64"
      ]
     },
     "execution_count": 15,
     "metadata": {},
     "output_type": "execute_result"
    }
   ],
   "source": [
    "data.value_counts(['DERNIER_STATUT'])"
   ]
  },
  {
   "cell_type": "code",
   "execution_count": 16,
   "id": "b4dc8122-2393-418c-be89-7fefff329737",
   "metadata": {},
   "outputs": [
    {
     "data": {
      "text/plain": [
       "count                       1031125\n",
       "mean     26 days 00:23:12.030365862\n",
       "std      69 days 07:19:55.236363579\n",
       "min                 0 days 00:00:00\n",
       "25%                 0 days 22:11:17\n",
       "50%                 4 days 05:51:03\n",
       "75%                17 days 06:43:21\n",
       "max              1077 days 20:16:59\n",
       "dtype: object"
      ]
     },
     "execution_count": 16,
     "metadata": {},
     "output_type": "execute_result"
    }
   ],
   "source": [
    "(data[DATETIME_COLS[1]] - data[DATETIME_COLS[0]]).sort_values().describe()"
   ]
  },
  {
   "cell_type": "code",
   "execution_count": 18,
   "id": "e4d4c8ed-da5e-4aad-8a07-9b3d44c01393",
   "metadata": {},
   "outputs": [],
   "source": [
    "data['TERMINATION_TIME'] = (data[DATETIME_COLS[1]] - data[DATETIME_COLS[0]])"
   ]
  },
  {
   "cell_type": "code",
   "execution_count": 19,
   "id": "d84a8df4-512d-4f37-a344-4cf68283d7aa",
   "metadata": {},
   "outputs": [
    {
     "data": {
      "text/html": [
       "<div>\n",
       "<style scoped>\n",
       "    .dataframe tbody tr th:only-of-type {\n",
       "        vertical-align: middle;\n",
       "    }\n",
       "\n",
       "    .dataframe tbody tr th {\n",
       "        vertical-align: top;\n",
       "    }\n",
       "\n",
       "    .dataframe thead th {\n",
       "        text-align: right;\n",
       "    }\n",
       "</style>\n",
       "<table border=\"1\" class=\"dataframe\">\n",
       "  <thead>\n",
       "    <tr style=\"text-align: right;\">\n",
       "      <th></th>\n",
       "      <th>ARRONDISSEMENT</th>\n",
       "      <th>TERMINATION_TIME</th>\n",
       "    </tr>\n",
       "  </thead>\n",
       "  <tbody>\n",
       "    <tr>\n",
       "      <th>0</th>\n",
       "      <td>Ahuntsic - Cartierville</td>\n",
       "      <td>2 days 03:32:50</td>\n",
       "    </tr>\n",
       "    <tr>\n",
       "      <th>1</th>\n",
       "      <td>Outremont</td>\n",
       "      <td>1 days 03:03:46</td>\n",
       "    </tr>\n",
       "    <tr>\n",
       "      <th>2</th>\n",
       "      <td>Le Plateau-Mont-Royal</td>\n",
       "      <td>5 days 05:21:48</td>\n",
       "    </tr>\n",
       "    <tr>\n",
       "      <th>3</th>\n",
       "      <td>Saint-Léonard</td>\n",
       "      <td>5 days 14:53:38</td>\n",
       "    </tr>\n",
       "    <tr>\n",
       "      <th>4</th>\n",
       "      <td>Ahuntsic - Cartierville</td>\n",
       "      <td>2 days 23:09:14</td>\n",
       "    </tr>\n",
       "    <tr>\n",
       "      <th>...</th>\n",
       "      <td>...</td>\n",
       "      <td>...</td>\n",
       "    </tr>\n",
       "    <tr>\n",
       "      <th>1031120</th>\n",
       "      <td>Le Plateau-Mont-Royal</td>\n",
       "      <td>0 days 04:42:47</td>\n",
       "    </tr>\n",
       "    <tr>\n",
       "      <th>1031121</th>\n",
       "      <td>Côte-des-Neiges - Notre-Dame-de-Grâce</td>\n",
       "      <td>0 days 07:38:27</td>\n",
       "    </tr>\n",
       "    <tr>\n",
       "      <th>1031122</th>\n",
       "      <td>Rivière-des-Prairies - Pointe-aux-Trembles</td>\n",
       "      <td>0 days 03:18:29</td>\n",
       "    </tr>\n",
       "    <tr>\n",
       "      <th>1031123</th>\n",
       "      <td>Rosemont - La Petite-Patrie</td>\n",
       "      <td>0 days 10:28:24</td>\n",
       "    </tr>\n",
       "    <tr>\n",
       "      <th>1031124</th>\n",
       "      <td>Verdun</td>\n",
       "      <td>0 days 05:20:09</td>\n",
       "    </tr>\n",
       "  </tbody>\n",
       "</table>\n",
       "<p>1031125 rows × 2 columns</p>\n",
       "</div>"
      ],
      "text/plain": [
       "                                     ARRONDISSEMENT TERMINATION_TIME\n",
       "0                           Ahuntsic - Cartierville  2 days 03:32:50\n",
       "1                                         Outremont  1 days 03:03:46\n",
       "2                             Le Plateau-Mont-Royal  5 days 05:21:48\n",
       "3                                     Saint-Léonard  5 days 14:53:38\n",
       "4                           Ahuntsic - Cartierville  2 days 23:09:14\n",
       "...                                             ...              ...\n",
       "1031120                       Le Plateau-Mont-Royal  0 days 04:42:47\n",
       "1031121       Côte-des-Neiges - Notre-Dame-de-Grâce  0 days 07:38:27\n",
       "1031122  Rivière-des-Prairies - Pointe-aux-Trembles  0 days 03:18:29\n",
       "1031123                 Rosemont - La Petite-Patrie  0 days 10:28:24\n",
       "1031124                                      Verdun  0 days 05:20:09\n",
       "\n",
       "[1031125 rows x 2 columns]"
      ]
     },
     "execution_count": 19,
     "metadata": {},
     "output_type": "execute_result"
    }
   ],
   "source": [
    "data[['ARRONDISSEMENT','TERMINATION_TIME']]"
   ]
  },
  {
   "cell_type": "code",
   "execution_count": 21,
   "id": "49eb3fdf-6a5a-48cc-bb27-495b263998d2",
   "metadata": {},
   "outputs": [
    {
     "data": {
      "text/plain": [
       "count                         86261\n",
       "mean     32 days 18:15:45.538876201\n",
       "std      76 days 10:11:57.299294605\n",
       "min                 0 days 00:00:00\n",
       "25%                 1 days 01:47:39\n",
       "50%                 4 days 20:49:40\n",
       "75%                31 days 23:32:08\n",
       "max               998 days 02:19:42\n",
       "Name: TERMINATION_TIME, dtype: object"
      ]
     },
     "execution_count": 21,
     "metadata": {},
     "output_type": "execute_result"
    }
   ],
   "source": [
    "data.loc[data['ARRONDISSEMENT']=='Ahuntsic - Cartierville','TERMINATION_TIME'].describe()"
   ]
  },
  {
   "cell_type": "code",
   "execution_count": 22,
   "id": "55e6f4e1-8ec2-46ac-8263-d5be5b1aff18",
   "metadata": {},
   "outputs": [
    {
     "data": {
      "text/plain": [
       "count                         80695\n",
       "mean     22 days 23:23:01.739153603\n",
       "std      55 days 07:36:20.107497937\n",
       "min                 0 days 00:00:00\n",
       "25%                 1 days 01:33:55\n",
       "50%                 4 days 02:31:53\n",
       "75%         17 days 08:55:40.500000\n",
       "max               984 days 04:29:46\n",
       "Name: TERMINATION_TIME, dtype: object"
      ]
     },
     "execution_count": 22,
     "metadata": {},
     "output_type": "execute_result"
    }
   ],
   "source": [
    "data.loc[data['ARRONDISSEMENT']=='Le Plateau-Mont-Royal','TERMINATION_TIME'].describe()"
   ]
  },
  {
   "cell_type": "code",
   "execution_count": 26,
   "id": "e3fa0b27-c110-4c74-885c-524c132db8a4",
   "metadata": {},
   "outputs": [],
   "source": [
    "HAZARDS = [\n",
    "    \"Feux de circulation - Entretien\",         #'Traffic lights - Maintenance',\n",
    "    \"Branche tombée\",                          # 'Fallen branch',\n",
    "    \"Débris sur la voie publique\",             # 'Debris on the public highway',\n",
    "    \"Fuite d'eau\",                             # 'Water leak',\n",
    "    \"Trottoir glissant \",                      # 'Slippery sidewalk',\n",
    "    \"Chaussée glissante\",                      # 'Slippery road',\n",
    "    \"Fermeture d'une conduite d'eau - Urgence\",# 'Closure of a water pipe - Emergency'\n",
    "]"
   ]
  },
  {
   "cell_type": "code",
   "execution_count": 27,
   "id": "f8cfb9c7-d842-4eeb-bf4d-ff23f7ac6558",
   "metadata": {},
   "outputs": [
    {
     "data": {
      "text/plain": [
       "ACTI_NOM\n",
       "Dépôt illégal - Déchets                                  61164\n",
       "Collecte de déchets                                      42612\n",
       "Bac roulant                                              38072\n",
       "Nettoyage du domaine public                              33014\n",
       "Collecte des matières recyclables                        29909\n",
       "                                                         ...  \n",
       "*Refuge - Propreté                                           1\n",
       "Constat d'infraction - Neige                                 1\n",
       "*Puisard/TH-Refoulement/Débordement/Blocage/Clés             1\n",
       "*Puisard/TH-Couvercle Abs./Brisé/Déplacé/Affaissement        1\n",
       "*ÉLU - Direction d'arrondissement                            1\n",
       "Name: count, Length: 868, dtype: int64"
      ]
     },
     "execution_count": 27,
     "metadata": {},
     "output_type": "execute_result"
    }
   ],
   "source": [
    "data.value_counts('ACTI_NOM')"
   ]
  },
  {
   "cell_type": "code",
   "execution_count": 28,
   "id": "9661129d-0903-4899-9551-fb299960207b",
   "metadata": {},
   "outputs": [
    {
     "data": {
      "text/plain": [
       "count                         64180\n",
       "mean     12 days 16:47:03.336771579\n",
       "std      43 days 21:50:49.828612146\n",
       "min                 0 days 00:00:00\n",
       "25%                 0 days 02:42:53\n",
       "50%                 1 days 02:07:30\n",
       "75%          7 days 05:19:45.750000\n",
       "max               993 days 15:48:50\n",
       "Name: TERMINATION_TIME, dtype: object"
      ]
     },
     "execution_count": 28,
     "metadata": {},
     "output_type": "execute_result"
    }
   ],
   "source": [
    "data.loc[data['ACTI_NOM'].isin(HAZARDS),'TERMINATION_TIME'].describe()"
   ]
  },
  {
   "cell_type": "code",
   "execution_count": null,
   "id": "d8f924b0-3316-4d26-aaf6-591baf76b35e",
   "metadata": {},
   "outputs": [],
   "source": []
  }
 ],
 "metadata": {
  "kernelspec": {
   "display_name": "Python 3 (ipykernel)",
   "language": "python",
   "name": "python3"
  },
  "language_info": {
   "codemirror_mode": {
    "name": "ipython",
    "version": 3
   },
   "file_extension": ".py",
   "mimetype": "text/x-python",
   "name": "python",
   "nbconvert_exporter": "python",
   "pygments_lexer": "ipython3",
   "version": "3.10.12"
  }
 },
 "nbformat": 4,
 "nbformat_minor": 5
}
