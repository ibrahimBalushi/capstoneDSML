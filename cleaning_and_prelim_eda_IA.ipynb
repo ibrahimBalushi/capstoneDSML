{
 "cells": [
  {
   "cell_type": "code",
   "execution_count": 1,
   "id": "70d5b5fb-f386-42eb-b708-90ac3d135396",
   "metadata": {},
   "outputs": [],
   "source": [
    "import pandas as pd\n",
    "from datetime import datetime as dt\n",
    "\n",
    "from IPython.core.interactiveshell import InteractiveShell\n",
    "InteractiveShell.ast_node_interactivity = 'all'"
   ]
  },
  {
   "cell_type": "code",
   "execution_count": 2,
   "id": "bb0aefeb-58b7-4a60-a96d-8c473498a826",
   "metadata": {},
   "outputs": [
    {
     "name": "stdout",
     "output_type": "stream",
     "text": [
      "Batiments_vacants_VM_2016\t  clean_requetes311_2022-present.csv\n",
      "cleaning_and_prelim_eda_IA.ipynb  geospatial_tool.ipynb\n",
      "clean_requetes311_2014-2016.csv   README.md\n",
      "clean_requetes311_2016-2018.csv   territoires-administratifs-casernes\n",
      "clean_requetes311_2019-2021.csv\n"
     ]
    }
   ],
   "source": [
    "! ls"
   ]
  },
  {
   "cell_type": "code",
   "execution_count": 3,
   "id": "f3296410-3445-4f14-b731-ab93c4e1a4e7",
   "metadata": {},
   "outputs": [],
   "source": [
    "data_2014_2016 = pd.read_csv('requetes311_2014-2016.csv', low_memory=False)\n",
    "data_2016_2018 = pd.read_csv('requetes311_2016-2018.csv', low_memory=False)\n",
    "data_2019_2021 = pd.read_csv('requetes311_2019-2021.csv', low_memory=False)\n",
    "data_2022_present = pd.read_csv('requetes311_2022-present.csv', low_memory=False)"
   ]
  },
  {
   "cell_type": "code",
   "execution_count": 4,
   "id": "3fd4c6e6-cf53-498d-b70d-c29dd4ddf330",
   "metadata": {},
   "outputs": [],
   "source": [
    "NAMES = ['2014-2016', '2016-2018', '2019-2021', '2022-present']\n",
    "DATASETS = [data_2014_2016, data_2016_2018, data_2019_2021, data_2022_present]\n",
    "DATA_DICT = dict(zip(NAMES,DATASETS))"
   ]
  },
  {
   "cell_type": "code",
   "execution_count": 5,
   "id": "1cb904bd-f042-4b5a-b89f-57d46696353a",
   "metadata": {},
   "outputs": [],
   "source": [
    "DATA_DICT.keys()"
   ]
  },
  {
   "cell_type": "markdown",
   "id": "36ee6bc5-bb18-4940-8c7d-c80bdcec8395",
   "metadata": {},
   "source": [
    "# CLEAN: remove all rows without geo-spacial data\n",
    "SAVE output csv"
   ]
  },
  {
   "cell_type": "code",
   "execution_count": 6,
   "id": "e9815712-199b-4003-b9ad-8ad41a42ad66",
   "metadata": {},
   "outputs": [],
   "source": [
    "for key in DATA_DICT.keys():\n",
    "    print(f'processing {key}...')\n",
    "    data = DATA_DICT[key]\n",
    "    data.dropna(subset=['LOC_LONG'], inplace=True)\n",
    "    \n",
    "    data = data[data['NATURE'] != 'Commentaire']\n",
    "    \n",
    "    data_clean = data.copy()\n",
    "    \n",
    "    data_clean.to_csv(f\"clean_{key}\")\n",
    "    print(f'clean_{key} complete')"
   ]
  },
  {
   "cell_type": "markdown",
   "id": "c2baf953-b5a2-45a9-ae1c-5872c91c7b57",
   "metadata": {},
   "source": [
    "# LOAD cleaned data (if needed)"
   ]
  },
  {
   "cell_type": "code",
   "execution_count": 7,
   "id": "e1ced7fc-0151-4150-866b-0877a81dd030",
   "metadata": {},
   "outputs": [],
   "source": [
    "# data_2014_2016 = pd.read_csv('clean_requetes311_2014-2016.csv', low_memory=False)\n",
    "# data_2016_2018 = pd.read_csv('clean_requetes311_2016-2018.csv', low_memory=False)\n",
    "# data_2019_2021 = pd.read_csv('clean_requetes311_2019-2021.csv', low_memory=False)\n",
    "# data_2022_present = pd.read_csv('clean_requetes311_2022-present.csv', low_memory=False)"
   ]
  },
  {
   "cell_type": "code",
   "execution_count": 8,
   "id": "ef7d23f7-ec0a-4465-93b2-330466ab9138",
   "metadata": {},
   "outputs": [],
   "source": [
    "NAMES = ['2014-2016', '2016-2018', '2019-2021', '2022-present']\n",
    "DATASETS = [data_2014_2016, data_2016_2018, data_2019_2021, data_2022_present]\n",
    "DATA_DICT = dict(zip(NAMES,DATASETS))"
   ]
  },
  {
   "cell_type": "code",
   "execution_count": 9,
   "id": "638c19db-4e78-40ad-954d-f076dbe4673d",
   "metadata": {},
   "outputs": [
    {
     "name": "stdout",
     "output_type": "stream",
     "text": [
      " 2014-2016:\n"
     ]
    },
    {
     "data": {
      "text/plain": [
       "NATURE\n",
       "Requete    1060340\n",
       "Plainte      14348\n",
       "Name: count, dtype: int64"
      ]
     },
     "execution_count": 9,
     "metadata": {},
     "output_type": "execute_result"
    },
    {
     "name": "stdout",
     "output_type": "stream",
     "text": [
      " 2016-2018:\n"
     ]
    },
    {
     "data": {
      "text/plain": [
       "NATURE\n",
       "Requete    1172488\n",
       "Plainte      15374\n",
       "Name: count, dtype: int64"
      ]
     },
     "execution_count": 9,
     "metadata": {},
     "output_type": "execute_result"
    },
    {
     "name": "stdout",
     "output_type": "stream",
     "text": [
      " 2019-2021:\n"
     ]
    },
    {
     "data": {
      "text/plain": [
       "NATURE\n",
       "Requete    1014315\n",
       "Plainte      18486\n",
       "Name: count, dtype: int64"
      ]
     },
     "execution_count": 9,
     "metadata": {},
     "output_type": "execute_result"
    },
    {
     "name": "stdout",
     "output_type": "stream",
     "text": [
      " 2022-present:\n"
     ]
    },
    {
     "data": {
      "text/plain": [
       "NATURE\n",
       "Requete    1013817\n",
       "Plainte      17308\n",
       "Name: count, dtype: int64"
      ]
     },
     "execution_count": 9,
     "metadata": {},
     "output_type": "execute_result"
    }
   ],
   "source": [
    "for key in DATA_DICT:\n",
    "    print(f' {key}:')\n",
    "    data = DATA_DICT[key]\n",
    "    data.value_counts('NATURE')"
   ]
  },
  {
   "cell_type": "markdown",
   "id": "f5b44822-73b1-4a8f-944d-6f78c65209c3",
   "metadata": {},
   "source": [
    "# concetenate all datasets"
   ]
  },
  {
   "cell_type": "code",
   "execution_count": 10,
   "id": "6bc0368e-a60d-4956-a9e9-af059de781b0",
   "metadata": {},
   "outputs": [],
   "source": [
    "full_data = pd.concat([DATA_DICT[key] for key in DATA_DICT.keys()])"
   ]
  },
  {
   "cell_type": "code",
   "execution_count": 11,
   "id": "f9d26ee3-17f5-4f62-b371-e98efa558801",
   "metadata": {},
   "outputs": [],
   "source": [
    "data = full_data"
   ]
  },
  {
   "cell_type": "markdown",
   "id": "4a16fcf8-cddf-4576-90ce-583027af09fe",
   "metadata": {},
   "source": [
    "# change time data to datetime format"
   ]
  },
  {
   "cell_type": "code",
   "execution_count": 12,
   "id": "5a414ace-eadf-4bcd-b682-345cc2ab48b4",
   "metadata": {},
   "outputs": [],
   "source": [
    "data['DDS_DATE_CREATION'] = pd.to_datetime(data['DDS_DATE_CREATION'])\n",
    "data['DATE_DERNIER_STATUT'] = pd.to_datetime(data['DATE_DERNIER_STATUT'])"
   ]
  },
  {
   "cell_type": "markdown",
   "id": "90875ed9-a7cf-40d2-9f34-7c5453257850",
   "metadata": {},
   "source": [
    "# EDA revealed numerous missing closure date between 2014-2015 - so remove rows with no DATE_DERNIER_STATUT time "
   ]
  },
  {
   "cell_type": "code",
   "execution_count": 13,
   "id": "9fae3e6c-a966-49d3-ba4e-e524b20adbb1",
   "metadata": {},
   "outputs": [],
   "source": [
    "data.dropna(subset=['DATE_DERNIER_STATUT'], inplace=True)"
   ]
  },
  {
   "cell_type": "markdown",
   "id": "304a2142-e697-4231-97c6-a2df15c92b6d",
   "metadata": {},
   "source": [
    "# create column Termination time - response time"
   ]
  },
  {
   "cell_type": "code",
   "execution_count": 14,
   "id": "e4d4c8ed-da5e-4aad-8a07-9b3d44c01393",
   "metadata": {},
   "outputs": [],
   "source": [
    "data['TERMINATION_TIME'] = (data['DATE_DERNIER_STATUT'] - data['DDS_DATE_CREATION'])"
   ]
  },
  {
   "cell_type": "code",
   "execution_count": 15,
   "id": "f07e6872-5c2b-46e7-992a-844d1209cd63",
   "metadata": {},
   "outputs": [
    {
     "data": {
      "text/html": [
       "<div>\n",
       "<style scoped>\n",
       "    .dataframe tbody tr th:only-of-type {\n",
       "        vertical-align: middle;\n",
       "    }\n",
       "\n",
       "    .dataframe tbody tr th {\n",
       "        vertical-align: top;\n",
       "    }\n",
       "\n",
       "    .dataframe thead th {\n",
       "        text-align: right;\n",
       "    }\n",
       "</style>\n",
       "<table border=\"1\" class=\"dataframe\">\n",
       "  <thead>\n",
       "    <tr style=\"text-align: right;\">\n",
       "      <th></th>\n",
       "      <th>DATE_DERNIER_STATUT</th>\n",
       "      <th>DDS_DATE_CREATION</th>\n",
       "    </tr>\n",
       "  </thead>\n",
       "  <tbody>\n",
       "    <tr>\n",
       "      <th>685640</th>\n",
       "      <td>2018-11-01 06:51:40</td>\n",
       "      <td>2016-11-29 10:03:07</td>\n",
       "    </tr>\n",
       "    <tr>\n",
       "      <th>685641</th>\n",
       "      <td>2018-01-17 10:37:13</td>\n",
       "      <td>2016-09-01 14:51:04</td>\n",
       "    </tr>\n",
       "    <tr>\n",
       "      <th>685642</th>\n",
       "      <td>2017-11-07 08:04:37</td>\n",
       "      <td>2016-10-21 14:49:39</td>\n",
       "    </tr>\n",
       "    <tr>\n",
       "      <th>685643</th>\n",
       "      <td>2016-06-23 14:23:15</td>\n",
       "      <td>2016-06-23 11:25:58</td>\n",
       "    </tr>\n",
       "    <tr>\n",
       "      <th>685644</th>\n",
       "      <td>2016-05-16 09:59:02</td>\n",
       "      <td>2016-04-25 11:22:37</td>\n",
       "    </tr>\n",
       "  </tbody>\n",
       "</table>\n",
       "</div>"
      ],
      "text/plain": [
       "       DATE_DERNIER_STATUT   DDS_DATE_CREATION\n",
       "685640 2018-11-01 06:51:40 2016-11-29 10:03:07\n",
       "685641 2018-01-17 10:37:13 2016-09-01 14:51:04\n",
       "685642 2017-11-07 08:04:37 2016-10-21 14:49:39\n",
       "685643 2016-06-23 14:23:15 2016-06-23 11:25:58\n",
       "685644 2016-05-16 09:59:02 2016-04-25 11:22:37"
      ]
     },
     "execution_count": 15,
     "metadata": {},
     "output_type": "execute_result"
    }
   ],
   "source": [
    "data[['DATE_DERNIER_STATUT','DDS_DATE_CREATION']].head(5)"
   ]
  },
  {
   "cell_type": "markdown",
   "id": "fa5039a6-f306-44ca-bd3e-7bb0074bc542",
   "metadata": {},
   "source": [
    "#  add month (or issue creation) to analyze seasonality"
   ]
  },
  {
   "cell_type": "code",
   "execution_count": 19,
   "id": "905e646b-581a-4474-b5d6-831df4be2451",
   "metadata": {},
   "outputs": [],
   "source": [
    "data['MONTH'] = data['DDS_DATE_CREATION'].apply(lambda x: x.month)"
   ]
  },
  {
   "cell_type": "markdown",
   "id": "fb53f2e7-0074-49e9-9391-1f95c2d2cd79",
   "metadata": {},
   "source": [
    "# save dataset as csv"
   ]
  },
  {
   "cell_type": "code",
   "execution_count": 21,
   "id": "c066c3ee-40ee-499a-8f8b-fcc729083fef",
   "metadata": {},
   "outputs": [],
   "source": [
    "data.reset_index().to_csv('processed_311data.csv')"
   ]
  },
  {
   "cell_type": "code",
   "execution_count": null,
   "id": "e3fa0b27-c110-4c74-885c-524c132db8a4",
   "metadata": {},
   "outputs": [],
   "source": [
    "# HAZARDS = [\n",
    "#     \"Feux de circulation - Entretien\",         #'Traffic lights - Maintenance',\n",
    "#     \"Branche tombée\",                          # 'Fallen branch',\n",
    "#     \"Débris sur la voie publique\",             # 'Debris on the public highway',\n",
    "#     \"Fuite d'eau\",                             # 'Water leak',\n",
    "#     \"Trottoir glissant \",                      # 'Slippery sidewalk',\n",
    "#     \"Chaussée glissante\",                      # 'Slippery road',\n",
    "#     \"Fermeture d'une conduite d'eau - Urgence\",# 'Closure of a water pipe - Emergency'\n",
    "# ]"
   ]
  },
  {
   "cell_type": "code",
   "execution_count": null,
   "id": "9661129d-0903-4899-9551-fb299960207b",
   "metadata": {},
   "outputs": [],
   "source": [
    "# data.loc[data['ACTI_NOM'].isin(HAZARDS),'TERMINATION_TIME'].describe()"
   ]
  },
  {
   "cell_type": "code",
   "execution_count": null,
   "id": "d8f924b0-3316-4d26-aaf6-591baf76b35e",
   "metadata": {},
   "outputs": [],
   "source": []
  }
 ],
 "metadata": {
  "kernelspec": {
   "display_name": "Python 3 (ipykernel)",
   "language": "python",
   "name": "python3"
  },
  "language_info": {
   "codemirror_mode": {
    "name": "ipython",
    "version": 3
   },
   "file_extension": ".py",
   "mimetype": "text/x-python",
   "name": "python",
   "nbconvert_exporter": "python",
   "pygments_lexer": "ipython3",
   "version": "3.10.12"
  }
 },
 "nbformat": 4,
 "nbformat_minor": 5
}
